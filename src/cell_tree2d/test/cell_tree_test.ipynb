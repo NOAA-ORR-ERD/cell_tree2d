{
 "cells": [
  {
   "cell_type": "code",
   "execution_count": 5,
   "metadata": {
    "collapsed": false
   },
   "outputs": [],
   "source": [
    "%matplotlib inline\n",
    "from matplotlib import pyplot as plt"
   ]
  },
  {
   "cell_type": "code",
   "execution_count": 12,
   "metadata": {
    "collapsed": false
   },
   "outputs": [],
   "source": [
    "import numpy as np\n",
    "def curv_grid(n_x=4, n_y=12, center=(20.0, 30.0), min_radius=1.0, max_radius=1.1,angle = np.pi / 2.0):\n",
    "    \"\"\"\n",
    "    example of quad grid of a partial circle to use for tests\n",
    "    \"\"\"\n",
    "\n",
    "    lon = np.zeros((n_y, n_x), dtype=np.float64)\n",
    "    lat = np.zeros((n_y, n_x), dtype=np.float64)\n",
    "\n",
    "    for i, theta in enumerate(np.linspace(0, angle, n_x)):\n",
    "        for j, r in enumerate(np.linspace(min_radius, max_radius, n_y)):\n",
    "            print np.cos(theta)\n",
    "            lon[j, i] = center[1] + r * np.cos(theta)\n",
    "            lat[j, i] = center[0] + r * np.sin(theta)\n",
    "    return lon, lat\n",
    " \n",
    "def nodes_from_coords(x, y):\n",
    "    \"\"\"\n",
    "    generates nodes and indeces for the cells from arrays of x and y nodes_from_coords\n",
    "    \"\"\"\n",
    "    nodes = np.ascontiguousarray(np.column_stack((x[:].reshape(-1),\n",
    "                                                          y[:].reshape(-1)))).astype(np.float64)\n",
    "    y_size, x_size = x.shape\n",
    "    faces = np.array([np.array([[x, x + 1, x + x_size + 1, x + x_size]\n",
    "                                        for x in range(0, x_size - 1, 1)]) + y * x_size for y in range(0, y_size - 1)])\n",
    "    faces = np.ascontiguousarray(faces.reshape(-1, 4).astype(np.int32))\n",
    "\n",
    "    return nodes, faces\n",
    "\n"
   ]
  },
  {
   "cell_type": "code",
   "execution_count": 7,
   "metadata": {
    "collapsed": false
   },
   "outputs": [
    {
     "name": "stdout",
     "output_type": "stream",
     "text": [
      "1.0\n",
      "1.0\n",
      "1.0\n",
      "1.0\n",
      "1.0\n",
      "1.0\n",
      "1.0\n",
      "1.0\n",
      "1.0\n",
      "1.0\n",
      "1.0\n",
      "1.0\n",
      "0.866025403784\n",
      "0.866025403784\n",
      "0.866025403784\n",
      "0.866025403784\n",
      "0.866025403784\n",
      "0.866025403784\n",
      "0.866025403784\n",
      "0.866025403784\n",
      "0.866025403784\n",
      "0.866025403784\n",
      "0.866025403784\n",
      "0.866025403784\n",
      "0.5\n",
      "0.5\n",
      "0.5\n",
      "0.5\n",
      "0.5\n",
      "0.5\n",
      "0.5\n",
      "0.5\n",
      "0.5\n",
      "0.5\n",
      "0.5\n",
      "0.5\n",
      "6.12323399574e-17\n",
      "6.12323399574e-17\n",
      "6.12323399574e-17\n",
      "6.12323399574e-17\n",
      "6.12323399574e-17\n",
      "6.12323399574e-17\n",
      "6.12323399574e-17\n",
      "6.12323399574e-17\n",
      "6.12323399574e-17\n",
      "6.12323399574e-17\n",
      "6.12323399574e-17\n",
      "6.12323399574e-17\n"
     ]
    }
   ],
   "source": [
    "lon, lat = curv_grid()"
   ]
  },
  {
   "cell_type": "code",
   "execution_count": 8,
   "metadata": {
    "collapsed": false
   },
   "outputs": [],
   "source": []
  },
  {
   "cell_type": "code",
   "execution_count": 9,
   "metadata": {
    "collapsed": false
   },
   "outputs": [
    {
     "data": {
      "text/plain": [
       "<matplotlib.collections.QuadMesh at 0x10f775c10>"
      ]
     },
     "execution_count": 9,
     "metadata": {},
     "output_type": "execute_result"
    },
    {
     "data": {
      "image/png": "[encoded data removed]",
      "text/plain": [
       "<matplotlib.figure.Figure at 0x10c46d350>"
      ]
     },
     "metadata": {},
     "output_type": "display_data"
    }
   ],
   "source": [
    "plt.pcolormesh(lon, lat, lon, edgecolors='k')"
   ]
  },
  {
   "cell_type": "code",
   "execution_count": 10,
   "metadata": {
    "collapsed": true
   },
   "outputs": [],
   "source": [
    "plt.pcolormesh?\n",
    "    "
   ]
  },
  {
   "cell_type": "code",
   "execution_count": 14,
   "metadata": {
    "collapsed": false
   },
   "outputs": [],
   "source": [
    "nodes, faces = nodes_from_coords(lon, lat)"
   ]
  },
  {
   "cell_type": "code",
   "execution_count": 17,
   "metadata": {
    "collapsed": false
   },
   "outputs": [
    {
     "ename": "AttributeError",
     "evalue": "'module' object has no attribute 'patch'",
     "output_type": "error",
     "traceback": [
      "\u001b[0;31m---------------------------------------------------------------------------\u001b[0m",
      "\u001b[0;31mAttributeError\u001b[0m                            Traceback (most recent call last)",
      "\u001b[0;32m<ipython-input-17-ccae017ede7f>\u001b[0m in \u001b[0;36m<module>\u001b[0;34m()\u001b[0m\n\u001b[0;32m----> 1\u001b[0;31m \u001b[0mplt\u001b[0m\u001b[0;34m.\u001b[0m\u001b[0mpatch\u001b[0m\u001b[0;34m(\u001b[0m\u001b[0mnodes\u001b[0m\u001b[0;34m[\u001b[0m\u001b[0;34m:\u001b[0m\u001b[0;34m,\u001b[0m\u001b[0;36m0\u001b[0m\u001b[0;34m]\u001b[0m\u001b[0;34m,\u001b[0m \u001b[0mnodes\u001b[0m\u001b[0;34m[\u001b[0m\u001b[0;34m:\u001b[0m\u001b[0;34m,\u001b[0m\u001b[0;36m1\u001b[0m\u001b[0;34m]\u001b[0m\u001b[0;34m,\u001b[0m \u001b[0;34m'b'\u001b[0m\u001b[0;34m)\u001b[0m\u001b[0;34m\u001b[0m\u001b[0m\n\u001b[0m",
      "\u001b[0;31mAttributeError\u001b[0m: 'module' object has no attribute 'patch'"
     ]
    }
   ],
   "source": [
    "plt.patch(nodes[:,0], nodes[:,1], 'b')"
   ]
  },
  {
   "cell_type": "code",
   "execution_count": 18,
   "metadata": {
    "collapsed": true
   },
   "outputs": [],
   "source": [
    "cell0 = nodes[faces[0]]"
   ]
  },
  {
   "cell_type": "code",
   "execution_count": 19,
   "metadata": {
    "collapsed": false
   },
   "outputs": [
    {
     "data": {
      "text/plain": [
       "array([[ 31.        ,  20.        ],\n",
       "       [ 30.8660254 ,  20.5       ],\n",
       "       [ 30.87389836,  20.50454545],\n",
       "       [ 31.00909091,  20.        ]])"
      ]
     },
     "execution_count": 19,
     "metadata": {},
     "output_type": "execute_result"
    }
   ],
   "source": [
    "cell0\n"
   ]
  },
  {
   "cell_type": "code",
   "execution_count": 20,
   "metadata": {
    "collapsed": false
   },
   "outputs": [
    {
     "data": {
      "text/plain": [
       "[<matplotlib.lines.Line2D at 0x11004dd10>]"
      ]
     },
     "execution_count": 20,
     "metadata": {},
     "output_type": "execute_result"
    },
    {
     "data": {
      "image/png": "[encoded data removed]",
      "text/plain": [
       "<matplotlib.figure.Figure at 0x10ff0c5d0>"
      ]
     },
     "metadata": {},
     "output_type": "display_data"
    }
   ],
   "source": [
    "plt.plot(cell0[:,0], cell0[:,1])"
   ]
  },
  {
   "cell_type": "code",
   "execution_count": null,
   "metadata": {
    "collapsed": true
   },
   "outputs": [],
   "source": []
  }
 ],
 "metadata": {
  "kernelspec": {
   "display_name": "Python 2",
   "language": "python",
   "name": "python2"
  },
  "language_info": {
   "codemirror_mode": {
    "name": "ipython",
    "version": 2
   },
   "file_extension": ".py",
   "mimetype": "text/x-python",
   "name": "python",
   "nbconvert_exporter": "python",
   "pygments_lexer": "ipython2",
   "version": "2.7.11"
  }
 },
 "nbformat": 4,
 "nbformat_minor": 0
}
